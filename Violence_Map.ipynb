{
 "cells": [
  {
   "cell_type": "code",
   "execution_count": 2,
   "id": "f398b3a1",
   "metadata": {},
   "outputs": [],
   "source": [
    "import pandas as pd\n",
    "import folium"
   ]
  },
  {
   "cell_type": "code",
   "execution_count": 3,
   "id": "608a368e",
   "metadata": {},
   "outputs": [],
   "source": [
    "df=pd.read_csv('all.csv')"
   ]
  },
  {
   "cell_type": "code",
   "execution_count": 9,
   "id": "e3c69d45",
   "metadata": {},
   "outputs": [
    {
     "data": {
      "text/html": [
       "<div>\n",
       "<style scoped>\n",
       "    .dataframe tbody tr th:only-of-type {\n",
       "        vertical-align: middle;\n",
       "    }\n",
       "\n",
       "    .dataframe tbody tr th {\n",
       "        vertical-align: top;\n",
       "    }\n",
       "\n",
       "    .dataframe thead th {\n",
       "        text-align: right;\n",
       "    }\n",
       "</style>\n",
       "<table border=\"1\" class=\"dataframe\">\n",
       "  <thead>\n",
       "    <tr style=\"text-align: right;\">\n",
       "      <th></th>\n",
       "      <th>type_of_violence</th>\n",
       "      <th>country</th>\n",
       "      <th>city</th>\n",
       "      <th>latitude</th>\n",
       "      <th>longitude</th>\n",
       "      <th>coordinates</th>\n",
       "      <th>Unnamed: 6</th>\n",
       "      <th>region</th>\n",
       "      <th>year</th>\n",
       "    </tr>\n",
       "  </thead>\n",
       "  <tbody>\n",
       "    <tr>\n",
       "      <th>0</th>\n",
       "      <td>1</td>\n",
       "      <td>Yemen (North Yemen)</td>\n",
       "      <td>Şan‘ā’ city</td>\n",
       "      <td>15.354722</td>\n",
       "      <td>44.206667</td>\n",
       "      <td>POINT (44.206667 15.354722)</td>\n",
       "      <td>NaN</td>\n",
       "      <td>Middle East</td>\n",
       "      <td>2010</td>\n",
       "    </tr>\n",
       "    <tr>\n",
       "      <th>1</th>\n",
       "      <td>3</td>\n",
       "      <td>Yemen (North Yemen)</td>\n",
       "      <td>‘Adan town</td>\n",
       "      <td>12.779444</td>\n",
       "      <td>45.036667</td>\n",
       "      <td>POINT (45.036667 12.779444)</td>\n",
       "      <td>NaN</td>\n",
       "      <td>Middle East</td>\n",
       "      <td>2011</td>\n",
       "    </tr>\n",
       "    <tr>\n",
       "      <th>2</th>\n",
       "      <td>1</td>\n",
       "      <td>Yemen (North Yemen)</td>\n",
       "      <td>Abyan governorate</td>\n",
       "      <td>13.786202</td>\n",
       "      <td>46.141765</td>\n",
       "      <td>POINT (46.141765 13.786202)</td>\n",
       "      <td>NaN</td>\n",
       "      <td>Middle East</td>\n",
       "      <td>2011</td>\n",
       "    </tr>\n",
       "    <tr>\n",
       "      <th>3</th>\n",
       "      <td>1</td>\n",
       "      <td>Yemen (North Yemen)</td>\n",
       "      <td>Abyan governorate</td>\n",
       "      <td>13.786202</td>\n",
       "      <td>46.141765</td>\n",
       "      <td>POINT (46.141765 13.786202)</td>\n",
       "      <td>NaN</td>\n",
       "      <td>Middle East</td>\n",
       "      <td>2012</td>\n",
       "    </tr>\n",
       "    <tr>\n",
       "      <th>4</th>\n",
       "      <td>1</td>\n",
       "      <td>Yemen (North Yemen)</td>\n",
       "      <td>‘Ab?dah valley</td>\n",
       "      <td>15.616667</td>\n",
       "      <td>45.300000</td>\n",
       "      <td>POINT (45.300000 15.616667)</td>\n",
       "      <td>NaN</td>\n",
       "      <td>Middle East</td>\n",
       "      <td>2012</td>\n",
       "    </tr>\n",
       "  </tbody>\n",
       "</table>\n",
       "</div>"
      ],
      "text/plain": [
       "   type_of_violence              country              city    latitude  \\\n",
       "0                 1  Yemen (North Yemen)        Şan‘ā’ city  15.354722   \n",
       "1                 3  Yemen (North Yemen)         ‘Adan town  12.779444   \n",
       "2                 1  Yemen (North Yemen)  Abyan governorate  13.786202   \n",
       "3                 1  Yemen (North Yemen)  Abyan governorate  13.786202   \n",
       "4                 1  Yemen (North Yemen)     ‘Ab?dah valley  15.616667   \n",
       "\n",
       "   longitude                  coordinates  Unnamed: 6       region  year  \n",
       "0  44.206667  POINT (44.206667 15.354722)         NaN  Middle East  2010  \n",
       "1  45.036667  POINT (45.036667 12.779444)         NaN  Middle East  2011  \n",
       "2  46.141765  POINT (46.141765 13.786202)         NaN  Middle East  2011  \n",
       "3  46.141765  POINT (46.141765 13.786202)         NaN  Middle East  2012  \n",
       "4  45.300000  POINT (45.300000 15.616667)         NaN  Middle East  2012  "
      ]
     },
     "execution_count": 9,
     "metadata": {},
     "output_type": "execute_result"
    }
   ],
   "source": [
    "df.head()"
   ]
  },
  {
   "cell_type": "code",
   "execution_count": 8,
   "id": "283c01d2",
   "metadata": {},
   "outputs": [],
   "source": [
    "df=df.rename(columns={'type  of violence':'type_of_violence'})"
   ]
  },
  {
   "cell_type": "code",
   "execution_count": 11,
   "id": "f6c01ac3",
   "metadata": {},
   "outputs": [
    {
     "data": {
      "text/plain": [
       "Index(['type_of_violence', 'country', 'city ', 'latitude', 'longitude',\n",
       "       'coordinates', 'Unnamed: 6', 'region', 'year'],\n",
       "      dtype='object')"
      ]
     },
     "execution_count": 11,
     "metadata": {},
     "output_type": "execute_result"
    }
   ],
   "source": [
    "df.columns"
   ]
  },
  {
   "cell_type": "code",
   "execution_count": 54,
   "id": "20aafcd4",
   "metadata": {},
   "outputs": [],
   "source": [
    "from folium import Html\n",
    "# create map and display it\n",
    "sanfran_map = folium.Map(tiles='cartodbpositron')\n",
    "colors = {\n",
    "    1: \"blue\",\n",
    "    2: \"green\",\n",
    "    3: \"red\",\n",
    "    # Add more categories and colors as needed\n",
    "}\n",
    "# loop through the 100 crimes and add each to the map\n",
    "for lat, lng, label, category,year in zip(df.latitude, df.longitude, df.type_of_violence, df.type_of_violence,df.year):\n",
    "    popup_text =folium.Html( f\"\"\"\n",
    "       <b> Type of Violence:</b> {label}<br>\n",
    "        <b>year:</b> {year}<br>\n",
    "        <b>latitude:</b> {lat}<br>\n",
    "        <b>longitude:</b> {lng}<br>\n",
    "   \"\"\",script=True )\n",
    "    folium.features.CircleMarker(\n",
    "        [lat, lng],\n",
    "        radius=5, # define how big you want the circle markers to be\n",
    "        color=colors[category],\n",
    "        fill=True,\n",
    "#         popup=[label,year,lat,lng],\n",
    "        popup=folium.Popup(popup_text, parse_html=True,max_width=2650),\n",
    "#         popup=popup_text,\n",
    "        fill_color=colors[category],\n",
    "        fill_opacity=0.6\n",
    "    ).add_to(sanfran_map)\n",
    "\n",
    "# show map\n",
    "sanfran_map.save('map.html')\n"
   ]
  },
  {
   "cell_type": "code",
   "execution_count": null,
   "id": "182fe416",
   "metadata": {},
   "outputs": [],
   "source": []
  }
 ],
 "metadata": {
  "kernelspec": {
   "display_name": "Python 3 (ipykernel)",
   "language": "python",
   "name": "python3"
  },
  "language_info": {
   "codemirror_mode": {
    "name": "ipython",
    "version": 3
   },
   "file_extension": ".py",
   "mimetype": "text/x-python",
   "name": "python",
   "nbconvert_exporter": "python",
   "pygments_lexer": "ipython3",
   "version": "3.11.5"
  }
 },
 "nbformat": 4,
 "nbformat_minor": 5
}
